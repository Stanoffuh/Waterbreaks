{
 "cells": [
  {
   "cell_type": "code",
   "execution_count": 1,
   "id": "290d63ee-2851-42a1-b330-b1d06147f3c2",
   "metadata": {},
   "outputs": [],
   "source": [
    "# Essential Libraries\n",
    "import pandas as pd\n",
    "import numpy as np\n",
    "from sklearn.model_selection import cross_val_score\n",
    "from sklearn.model_selection import train_test_split, StratifiedKFold\n",
    "from sklearn.preprocessing import LabelEncoder, MinMaxScaler\n",
    "from sklearn.metrics import accuracy_score, precision_score, recall_score, f1_score, roc_auc_score, classification_report\n",
    "from sklearn.neighbors import KNeighborsClassifier\n",
    "from sklearn.linear_model import LogisticRegression\n",
    "from sklearn.tree import DecisionTreeClassifier\n",
    "import matplotlib.pyplot as plt\n",
    "import seaborn as sns"
   ]
  },
  {
   "cell_type": "code",
   "execution_count": 2,
   "id": "925ce67c-13bc-4825-9ae7-bf640a4cda92",
   "metadata": {},
   "outputs": [
    {
     "name": "stdout",
     "output_type": "stream",
     "text": [
      "<class 'pandas.core.frame.DataFrame'>\n",
      "RangeIndex: 18906 entries, 0 to 18905\n",
      "Data columns (total 25 columns):\n",
      " #   Column             Non-Null Count  Dtype         \n",
      "---  ------             --------------  -----         \n",
      " 0   Source.Name        18596 non-null  object        \n",
      " 1   OBJECTID           18596 non-null  float64       \n",
      " 2   WATMAINID          16045 non-null  float64       \n",
      " 3   STATUS             16045 non-null  object        \n",
      " 4   EXISTS             18906 non-null  int64         \n",
      " 5   ASSET_EXIST        18595 non-null  object        \n",
      " 6   PRESSURE_ZONE      16045 non-null  object        \n",
      " 7   ROADSEGMENTID      16045 non-null  float64       \n",
      " 8   CATEGORY           16045 non-null  object        \n",
      " 9   PIPE_SIZE          18596 non-null  float64       \n",
      " 10  MATERIAL           18596 non-null  object        \n",
      " 11  LINED              16045 non-null  object        \n",
      " 12  LINED_MATERIAL     16045 non-null  object        \n",
      " 13  INSTALLATION_DATE  16045 non-null  datetime64[ns]\n",
      " 14  INSTALLATION_YEAR  18596 non-null  float64       \n",
      " 15  AGE                18596 non-null  float64       \n",
      " 16  BRIDGE_MAIN        16045 non-null  object        \n",
      " 17  Undersized         16045 non-null  object        \n",
      " 18  Shallow Main       16045 non-null  object        \n",
      " 19  CONDITION_SCORE    18596 non-null  float64       \n",
      " 20  OVERSIZED          16045 non-null  object        \n",
      " 21  CLEANED            16045 non-null  object        \n",
      " 22  Shape__Length      16045 non-null  float64       \n",
      " 23  MAIN_BREAK         18596 non-null  object        \n",
      " 24  FAILURE            18906 non-null  int64         \n",
      "dtypes: datetime64[ns](1), float64(8), int64(2), object(14)\n",
      "memory usage: 3.6+ MB\n",
      "None\n",
      "            Source.Name  OBJECTID  WATMAINID  STATUS  EXISTS ASSET_EXIST  \\\n",
      "0  Water_Mains_info.csv   78710.0    83486.0  ACTIVE       1           Y   \n",
      "1  Water_Mains_info.csv   78711.0    76083.0  ACTIVE       1           Y   \n",
      "2  Water_Mains_info.csv   78712.0    83488.0  ACTIVE       1           Y   \n",
      "3  Water_Mains_info.csv   78757.0    81864.0  ACTIVE       1           Y   \n",
      "4  Water_Mains_info.csv   78762.0    81878.0  ACTIVE       1           Y   \n",
      "\n",
      "  PRESSURE_ZONE  ROADSEGMENTID CATEGORY  PIPE_SIZE  ...   AGE BRIDGE_MAIN  \\\n",
      "0         KIT 6         5565.0  TREATED      300.0  ...  17.0           N   \n",
      "1         KIT 6         5565.0  TREATED      300.0  ...  17.0           N   \n",
      "2         KIT 6         5565.0  TREATED      300.0  ...  17.0           N   \n",
      "3         KIT 6         5565.0  TREATED      300.0  ...  17.0           N   \n",
      "4         KIT 4       605469.0  TREATED      300.0  ...  19.0           N   \n",
      "\n",
      "  Undersized Shallow Main  CONDITION_SCORE  OVERSIZED CLEANED Shape__Length  \\\n",
      "0          N            N             10.0          N       Y      3.237349   \n",
      "1          N            N             10.0          N       Y    139.290288   \n",
      "2          N            N             10.0          N       Y      0.947080   \n",
      "3          N            N             10.0          N       Y      0.914848   \n",
      "4          N            N             10.0          N       N     71.159782   \n",
      "\n",
      "  MAIN_BREAK  FAILURE  \n",
      "0          N        0  \n",
      "1          N        0  \n",
      "2          N        0  \n",
      "3          N        0  \n",
      "4          N        0  \n",
      "\n",
      "[5 rows x 25 columns]\n"
     ]
    }
   ],
   "source": [
    "# Loading the dataset from the spreadsheet\n",
    "file_path = 'Kitchner_water_breaks.xlsx'  \n",
    "data = pd.read_excel(file_path)\n",
    "\n",
    "# Displaying basic information about the dataset to inspect it\n",
    "print(data.info())\n",
    "print(data.head())"
   ]
  },
  {
   "cell_type": "code",
   "execution_count": 3,
   "id": "b0a7a21a-eb32-4bd7-ab33-726dcaf13019",
   "metadata": {},
   "outputs": [],
   "source": [
    "# Encoding categorical variables\n",
    "le = LabelEncoder()\n",
    "data['MATERIAL'] = le.fit_transform(data['MATERIAL'])\n",
    "\n",
    "# Select relevant features and target variable based on the PDF findings\n",
    "features = ['EXISTS', 'AGE', 'CONDITION_SCORE', 'MATERIAL', 'PIPE_SIZE','INSTALLATION_YEAR']\n",
    "target = 'FAILURE'  # 'FAILURE' is the target variable\n",
    "\n",
    "X = data[features]\n",
    "y = data[target]"
   ]
  },
  {
   "cell_type": "code",
   "execution_count": 4,
   "id": "42d4fcf9-f032-4698-b74e-bc3004f1999f",
   "metadata": {},
   "outputs": [
    {
     "name": "stdout",
     "output_type": "stream",
     "text": [
      "Unique values in y: [0 1]\n",
      "Value counts in y:\n",
      " FAILURE\n",
      "0    16355\n",
      "1     2551\n",
      "Name: count, dtype: int64\n"
     ]
    }
   ],
   "source": [
    "print(\"Unique values in y:\", y.unique())\n",
    "print(\"Value counts in y:\\n\", y.value_counts())"
   ]
  },
  {
   "cell_type": "code",
   "execution_count": 5,
   "id": "17ac15a6-c796-4566-8e95-54b666037e56",
   "metadata": {},
   "outputs": [],
   "source": [
    "# Train-Test Split, 75% train, 25% test\n",
    "X_train, X_test, y_train, y_test = train_test_split(X, y, test_size=0.25, stratify=y, random_state=42)"
   ]
  },
  {
   "cell_type": "code",
   "execution_count": 6,
   "id": "bb49780f-7a52-49f2-bbab-0e28930a2b33",
   "metadata": {},
   "outputs": [],
   "source": [
    "X_train = np.array(X_train)\n",
    "X_test = np.array(X_test)"
   ]
  },
  {
   "cell_type": "code",
   "execution_count": 7,
   "id": "aa2e070e-9e00-417d-b20d-f0e110f54f9d",
   "metadata": {},
   "outputs": [
    {
     "name": "stdout",
     "output_type": "stream",
     "text": [
      "Shape of X_train: (14179, 6)\n",
      "Missing values in X_train: 920\n",
      "Infinite values in X_train: 0\n",
      "Scaling completed successfully.\n"
     ]
    }
   ],
   "source": [
    "from sklearn.impute import SimpleImputer\n",
    "from sklearn.preprocessing import StandardScaler\n",
    "\n",
    "# Debugging and cleaning X_train\n",
    "print(\"Shape of X_train:\", X_train.shape)\n",
    "\n",
    "# Checking and handling missing values\n",
    "print(\"Missing values in X_train:\", np.isnan(X_train).sum())\n",
    "imputer = SimpleImputer(strategy='median')\n",
    "X_train = imputer.fit_transform(X_train)\n",
    "X_test = imputer.transform(X_test)\n",
    "\n",
    "# Check and handle infinite values\n",
    "print(\"Infinite values in X_train:\", np.isinf(X_train).sum())\n",
    "X_train = np.where(np.isinf(X_train), np.nan, X_train)\n",
    "X_test = np.where(np.isinf(X_test), np.nan, X_test)\n",
    "\n",
    "# Re-handle missing values after replacing infinite values\n",
    "X_train = imputer.fit_transform(X_train)\n",
    "X_test = imputer.transform(X_test)\n",
    "\n",
    "# Applying MinMaxScaler\n",
    "scaler = MinMaxScaler()\n",
    "X_train = scaler.fit_transform(X_train)\n",
    "X_test = scaler.transform(X_test)\n",
    "\n",
    "print(\"Scaling completed successfully.\")"
   ]
  },
  {
   "cell_type": "code",
   "execution_count": 8,
   "id": "b7747a7b-5295-46b5-bd0c-c45f383afbad",
   "metadata": {},
   "outputs": [
    {
     "name": "stdout",
     "output_type": "stream",
     "text": [
      "Test set R^2: 0.997\n",
      "Cross-validation scores: [0.99506347 0.99788434 0.9925952  0.99682652 0.99717813]\n",
      "KNN Evaluation:\n",
      "Test Set Accuracy:  0.9974613920033848\n",
      "Train Set Accuracy: 0.997\n"
     ]
    }
   ],
   "source": [
    "# KNN Model\n",
    "knn = KNeighborsClassifier(n_neighbors=5)\n",
    "knn.fit(X_train, y_train)\n",
    "\n",
    "from sklearn.neighbors import KNeighborsRegressor\n",
    "reg = KNeighborsClassifier(n_neighbors=5)\n",
    "reg.fit(X_train, y_train)\n",
    "print(\"Test set R^2: {:.3f}\".format(reg.score(X_test, y_test)))\n",
    "\n",
    "#Cross Validation scores for KNN\n",
    "scores = cross_val_score(knn, X_train, y_train)\n",
    "print (\"Cross-validation scores: {}\".format(scores))\n",
    "\n",
    "# Predictions and Evaluation\n",
    "y_pred_knn = knn.predict(X_test)\n",
    "print(\"KNN Evaluation:\")\n",
    "print(\"Test Set Accuracy: \", accuracy_score(y_test, y_pred_knn))\n",
    "print(\"Train Set Accuracy: {:.3f}\".format(knn.score(X_train, y_train)))"
   ]
  },
  {
   "cell_type": "code",
   "execution_count": 9,
   "id": "83ebdd10-cb64-4f02-8603-1901503a1ac2",
   "metadata": {},
   "outputs": [
    {
     "name": "stdout",
     "output_type": "stream",
     "text": [
      "Cross-validation scores: [0.96156559 0.96191819 0.96438646 0.9657969  0.9643739 ]\n",
      "Logistic Regression Evaluation:\n",
      "Test Set Accuracy: 0.9638248360482335\n",
      "Train set Accuracy: 0.966\n"
     ]
    }
   ],
   "source": [
    "# Logistic Regression Model\n",
    "log_reg = LogisticRegression(max_iter=1000)\n",
    "log_reg.fit(X_train, y_train)\n",
    "\n",
    "#Cross Validation scores for KNN\n",
    "scores = cross_val_score(log_reg, X_train, y_train)\n",
    "print (\"Cross-validation scores: {}\".format(scores))\n",
    "\n",
    "# Predictions and Evaluation\n",
    "y_pred_log = log_reg.predict(X_test)\n",
    "print(\"Logistic Regression Evaluation:\")\n",
    "print(\"Test Set Accuracy:\", accuracy_score(y_test, y_pred_log))\n",
    "print(\"Train set Accuracy: {:.3f}\".format(log_reg.score(X_train, y_train)))\n"
   ]
  },
  {
   "cell_type": "code",
   "execution_count": 10,
   "id": "8adbd6d6-1003-44be-9827-d4ed7bb73210",
   "metadata": {},
   "outputs": [
    {
     "name": "stdout",
     "output_type": "stream",
     "text": [
      "Cross-validation scores: [0.99012694 0.9925952  0.98695346 0.99012694 0.99329806]\n",
      "Decision Tree Evaluation:\n",
      "Test Set Accuracy: 0.9911148720118469\n",
      "Train set Accuracy: 0.992\n"
     ]
    }
   ],
   "source": [
    "# Decision Tree Model\n",
    "dt = DecisionTreeClassifier(max_depth=5, random_state=42)\n",
    "dt.fit(X_train, y_train)\n",
    "\n",
    "#Cross Validation scores for KNN\n",
    "scores = cross_val_score(dt, X_train, y_train)\n",
    "print (\"Cross-validation scores: {}\".format(scores))\n",
    "\n",
    "# Predictions and Evaluation\n",
    "y_pred_dt = dt.predict(X_test)\n",
    "print(\"Decision Tree Evaluation:\")\n",
    "print(\"Test Set Accuracy:\", accuracy_score(y_test, y_pred_dt))\n",
    "print(\"Train set Accuracy: {:.3f}\".format(dt.score(X_train, y_train)))"
   ]
  },
  {
   "cell_type": "code",
   "execution_count": 11,
   "id": "e7f0930f-61ee-4912-bee5-e7e7a9549959",
   "metadata": {},
   "outputs": [
    {
     "name": "stdout",
     "output_type": "stream",
     "text": [
      "                 Model  Accuracy\n",
      "0                  KNN  0.997461\n",
      "1  Logistic Regression  0.963825\n",
      "2        Decision Tree  0.991115\n"
     ]
    },
    {
     "data": {
      "image/png": "[encoded data removed]",
      "text/plain": [
       "<Figure size 640x480 with 1 Axes>"
      ]
     },
     "metadata": {},
     "output_type": "display_data"
    }
   ],
   "source": [
    "# Combine model results for comparison\n",
    "results = {\n",
    "    \"Model\": [\"KNN\", \"Logistic Regression\", \"Decision Tree\"],\n",
    "    \"Accuracy\": [\n",
    "        accuracy_score(y_test, y_pred_knn),\n",
    "        accuracy_score(y_test, y_pred_log),\n",
    "        accuracy_score(y_test, y_pred_dt)\n",
    "    ]\n",
    "}\n",
    "\n",
    "results_df = pd.DataFrame(results)\n",
    "print(results_df)\n",
    "\n",
    "# Plot the results\n",
    "sns.barplot(x=\"Model\", y=\"Accuracy\", data=results_df)\n",
    "plt.title(\"Model Accuracy Comparison\")\n",
    "plt.show()\n"
   ]
  },
  {
   "cell_type": "code",
   "execution_count": 12,
   "id": "ae6db335-dd46-4fa2-b6bb-3ecded013c2d",
   "metadata": {},
   "outputs": [
    {
     "name": "stdout",
     "output_type": "stream",
     "text": [
      "Best Parameters for KNN: {'metric': 'manhattan', 'n_neighbors': 5, 'weights': 'distance'}\n",
      "KNN GridSearchCV Evaluation:\n",
      "Accuracy: 0.9983075946689232\n"
     ]
    }
   ],
   "source": [
    "from sklearn.model_selection import GridSearchCV\n",
    "from sklearn.neighbors import KNeighborsClassifier\n",
    "from sklearn.metrics import accuracy_score, f1_score\n",
    "\n",
    "# Define parameter grid for KNN\n",
    "knn_param_grid = {\n",
    "    'n_neighbors': [3, 5, 7, 9],\n",
    "    'weights': ['uniform', 'distance'],\n",
    "    'metric': ['euclidean', 'manhattan']\n",
    "}\n",
    "\n",
    "# Initialize GridSearchCV\n",
    "knn_grid = GridSearchCV(KNeighborsClassifier(), knn_param_grid, cv=5, scoring='f1', n_jobs=-1)\n",
    "knn_grid.fit(X_train, y_train)\n",
    "\n",
    "# Best parameters and evaluation\n",
    "print(\"Best Parameters for KNN:\", knn_grid.best_params_)\n",
    "best_knn = knn_grid.best_estimator_\n",
    "\n",
    "# Evaluate on test set\n",
    "y_pred_knn = best_knn.predict(X_test)\n",
    "print(\"KNN GridSearchCV Evaluation:\")\n",
    "print(\"Accuracy:\", accuracy_score(y_test, y_pred_knn))"
   ]
  },
  {
   "cell_type": "code",
   "execution_count": 13,
   "id": "c2d43d4d-155e-4a3c-95c3-b5ddb6505e47",
   "metadata": {},
   "outputs": [
    {
     "name": "stdout",
     "output_type": "stream",
     "text": [
      "Best Parameters for Decision Tree: {'criterion': 'entropy', 'max_depth': 15, 'min_samples_leaf': 1, 'min_samples_split': 2}\n",
      "Decision Tree GridSearchCV Evaluation:\n",
      "Accuracy: 1.0\n"
     ]
    }
   ],
   "source": [
    "# Define parameter grid for Decision Tree\n",
    "dt_param_grid = {\n",
    "    'criterion': ['gini', 'entropy', 'log_loss'],\n",
    "    'max_depth': [5, 10, 15, None],\n",
    "    'min_samples_split': [2, 5, 10],\n",
    "    'min_samples_leaf': [1, 2, 5]\n",
    "}\n",
    "\n",
    "# Initialize GridSearchCV\n",
    "dt_grid = GridSearchCV(DecisionTreeClassifier(random_state=42), dt_param_grid, cv=5, scoring='f1', n_jobs=-1)\n",
    "dt_grid.fit(X_train, y_train)\n",
    "\n",
    "# Best parameters and evaluation\n",
    "print(\"Best Parameters for Decision Tree:\", dt_grid.best_params_)\n",
    "best_dt = dt_grid.best_estimator_\n",
    "\n",
    "# Evaluate on test set\n",
    "y_pred_dt = best_dt.predict(X_test)\n",
    "print(\"Decision Tree GridSearchCV Evaluation:\")\n",
    "print(\"Accuracy:\", accuracy_score(y_test, y_pred_dt))"
   ]
  },
  {
   "cell_type": "code",
   "execution_count": null,
   "id": "2a320dd0-2a58-4a37-846b-9592f278aa7a",
   "metadata": {},
   "outputs": [],
   "source": [
    "# Define parameter grid for Logistic Regression\n",
    "log_reg_param_grid = [\n",
    "    {'penalty': ['l1'], 'C': [0.01, 0.1, 1, 10, 100], 'solver': ['liblinear']},  # l1 with liblinear\n",
    "    {'penalty': ['l2'], 'C': [0.01, 0.1, 1, 10, 100], 'solver': ['liblinear', 'saga']},  # l2 with liblinear or saga\n",
    "    {'penalty': ['elasticnet'], 'C': [0.01, 0.1, 1, 10, 100], 'solver': ['saga'], 'l1_ratio': [0.2, 0.5, 0.8]}  # elasticnet with saga\n",
    "]\n",
    "\n",
    "# Initialize GridSearchCV\n",
    "log_reg_grid = GridSearchCV(LogisticRegression(max_iter=1000), log_reg_param_grid, cv=5, scoring='f1', n_jobs=-1)\n",
    "log_reg_grid.fit(X_train, y_train)\n",
    "\n",
    "# Best parameters and evaluation\n",
    "print(\"Best Parameters for Logistic Regression:\", log_reg_grid.best_params_)\n",
    "best_log_reg = log_reg_grid.best_estimator_\n",
    "\n",
    "# Evaluate on test set\n",
    "y_pred_log = best_log_reg.predict(X_test)\n",
    "print(\"Logistic Regression GridSearchCV Evaluation:\")\n",
    "print(\"Accuracy:\", accuracy_score(y_test, y_pred_log))\n",
    "\n"
   ]
  },
  {
   "cell_type": "code",
   "execution_count": null,
   "id": "01826cf1-2709-48c2-a2fb-21336788870d",
   "metadata": {},
   "outputs": [],
   "source": [
    "# Store results in a DataFrame\n",
    "results = {\n",
    "    \"Model\": [\"KNN\", \"Logistic Regression\", \"Decision Tree\"],\n",
    "    \"Accuracy\": [\n",
    "        accuracy_score(y_test, y_pred_knn),\n",
    "        accuracy_score(y_test, y_pred_log),\n",
    "        accuracy_score(y_test, y_pred_dt)\n",
    "    ],\n",
    "    \n",
    "}\n",
    "\n",
    "results_df = pd.DataFrame(results)\n",
    "print(results_df)\n",
    "\n",
    "# Visualize results\n",
    "sns.barplot(x=\"Model\", y=\"Accuracy\", data=results_df)\n",
    "plt.title(\"Model Accuracy After Hyperparameter Tuning\")\n",
    "plt.show()\n",
    "\n"
   ]
  },
  {
   "cell_type": "code",
   "execution_count": null,
   "id": "b95622ea-fe41-455d-a492-9155ffed4ccb",
   "metadata": {},
   "outputs": [],
   "source": []
  }
 ],
 "metadata": {
  "kernelspec": {
   "display_name": "Python 3 (ipykernel)",
   "language": "python",
   "name": "python3"
  },
  "language_info": {
   "codemirror_mode": {
    "name": "ipython",
    "version": 3
   },
   "file_extension": ".py",
   "mimetype": "text/x-python",
   "name": "python",
   "nbconvert_exporter": "python",
   "pygments_lexer": "ipython3",
   "version": "3.12.4"
  }
 },
 "nbformat": 4,
 "nbformat_minor": 5
}
